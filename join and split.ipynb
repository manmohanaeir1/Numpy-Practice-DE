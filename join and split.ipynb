{
 "cells": [
  {
   "cell_type": "code",
   "execution_count": 1,
   "id": "b49bea5f-35a6-4923-8585-da4b07942fa8",
   "metadata": {},
   "outputs": [
    {
     "name": "stdout",
     "output_type": "stream",
     "text": [
      "[30, 5, 89, 65, 78, 45]\n"
     ]
    }
   ],
   "source": [
    "a = [30, 5, 89]\n",
    "b = [65,78,45]\n",
    "print(a+b)"
   ]
  },
  {
   "cell_type": "code",
   "execution_count": 19,
   "id": "d0fd41b4-a8a5-44f1-bc4c-eb1dcced66cf",
   "metadata": {},
   "outputs": [
    {
     "name": "stdout",
     "output_type": "stream",
     "text": [
      "[[ 2 20]\n",
      " [34 30]\n",
      " [ 4  5]\n",
      " [ 4  6]]\n"
     ]
    }
   ],
   "source": [
    " #Concat\n",
    "import numpy as np\n",
    "arr1 = np.array([[2, 20],[34,30]])\n",
    "arr2 = np.array([[4,5],[4,6]])\n",
    "\n",
    "print(np.concatenate([arr1,arr2]))\n"
   ]
  },
  {
   "cell_type": "code",
   "execution_count": 25,
   "id": "0b967a06-56b7-4d27-bb93-a2327996bfb0",
   "metadata": {},
   "outputs": [
    {
     "name": "stdout",
     "output_type": "stream",
     "text": [
      "[[ 2 20  4  5]\n",
      " [34 30  4  6]]\n"
     ]
    }
   ],
   "source": [
    "print(np.concatenate([arr1,arr2],axis = 1))  \n",
    "\n",
    "# = 0   or vstack(arr1, arr2)\n",
    "#[[ 2 20]  \n",
    "# [34 30]\n",
    "# [ 4  5]\n",
    "#  [ 4  6]]\n",
    "\n",
    "#if axis = 1   or hstack(arr1, arr2) \n",
    "#[[ 2 20  4  5]\n",
    " #[34 30  4  6]]\n",
    "\n"
   ]
  },
  {
   "cell_type": "code",
   "execution_count": 29,
   "id": "046558c2-8f86-48ab-859b-a9b319c5c9c6",
   "metadata": {},
   "outputs": [
    {
     "name": "stdout",
     "output_type": "stream",
     "text": [
      "[array([34, 56, 34, 56]), array([54, 55, 23])]\n",
      "for indexing\n",
      "[54 55 23]\n"
     ]
    }
   ],
   "source": [
    "a = np.array([34,56,34,56,54,55,23])\n",
    "print(np.array_split(a,2))\n",
    "\n",
    "#or\n",
    "print(\"for indexing\")\n",
    "b = np.array_split(a,2)\n",
    "\n",
    "print(b[1])"
   ]
  },
  {
   "cell_type": "code",
   "execution_count": null,
   "id": "64ad9db5-4d67-419c-9c2d-0c454e3068bf",
   "metadata": {},
   "outputs": [],
   "source": []
  },
  {
   "cell_type": "code",
   "execution_count": null,
   "id": "4d3e2339-d537-457d-912d-74b505c63673",
   "metadata": {},
   "outputs": [],
   "source": []
  }
 ],
 "metadata": {
  "kernelspec": {
   "display_name": "Python 3 (ipykernel)",
   "language": "python",
   "name": "python3"
  },
  "language_info": {
   "codemirror_mode": {
    "name": "ipython",
    "version": 3
   },
   "file_extension": ".py",
   "mimetype": "text/x-python",
   "name": "python",
   "nbconvert_exporter": "python",
   "pygments_lexer": "ipython3",
   "version": "3.12.3"
  }
 },
 "nbformat": 4,
 "nbformat_minor": 5
}
