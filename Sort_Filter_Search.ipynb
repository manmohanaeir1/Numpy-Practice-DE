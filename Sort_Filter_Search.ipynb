{
 "cells": [
  {
   "cell_type": "code",
   "execution_count": 3,
   "id": "e1851574-7d51-4a5e-80d9-526649dbc671",
   "metadata": {},
   "outputs": [
    {
     "name": "stdout",
     "output_type": "stream",
     "text": [
      "[[ 2  3  6]\n",
      " [ 6 33 47]]\n"
     ]
    }
   ],
   "source": [
    "import numpy as np\n",
    "\n",
    "ar = np.array([[2,6,3],[47,6,33]])\n",
    "print(np.sort(ar))\n"
   ]
  },
  {
   "cell_type": "code",
   "execution_count": 5,
   "id": "7727f9fc-4f87-4d7a-81e6-3cc9b0176407",
   "metadata": {},
   "outputs": [
    {
     "name": "stdout",
     "output_type": "stream",
     "text": [
      "(array([0, 1, 3, 5, 7]),)\n",
      "None\n"
     ]
    }
   ],
   "source": [
    "import numpy as np\n",
    "\n",
    "ar = np.array([34,56,343,6,7,8,9,10])\n",
    "#search = print(np.where(ar == 56))\n",
    "search = print(np.where(ar % 2 == 0 ))\n",
    "print(earch)"
   ]
  },
  {
   "cell_type": "code",
   "execution_count": 9,
   "id": "9ae47f69-7e06-4dff-8b48-c4f8d479e713",
   "metadata": {},
   "outputs": [
    {
     "name": "stdout",
     "output_type": "stream",
     "text": [
      "[ 56 343]\n"
     ]
    }
   ],
   "source": [
    " import numpy as np\n",
    "\n",
    "ar = np.array([34,56,343,6])\n",
    "\n",
    "#fa = [True, False, True, False]\n",
    "\n",
    "fa = ar>50\n",
    "\n",
    "new = ar[fa]\n",
    "print(new)"
   ]
  },
  {
   "cell_type": "code",
   "execution_count": null,
   "id": "14a7a94b-a849-44af-88e6-a6a1946c2bc4",
   "metadata": {},
   "outputs": [],
   "source": []
  }
 ],
 "metadata": {
  "kernelspec": {
   "display_name": "Python 3 (ipykernel)",
   "language": "python",
   "name": "python3"
  },
  "language_info": {
   "codemirror_mode": {
    "name": "ipython",
    "version": 3
   },
   "file_extension": ".py",
   "mimetype": "text/x-python",
   "name": "python",
   "nbconvert_exporter": "python",
   "pygments_lexer": "ipython3",
   "version": "3.12.3"
  }
 },
 "nbformat": 4,
 "nbformat_minor": 5
}
