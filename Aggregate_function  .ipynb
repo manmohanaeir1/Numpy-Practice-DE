{
 "cells": [
  {
   "cell_type": "code",
   "execution_count": 9,
   "id": "d5725f13-f9f1-480a-87bd-113a2d5df87a",
   "metadata": {},
   "outputs": [
    {
     "name": "stdout",
     "output_type": "stream",
     "text": [
      "42\n",
      "1\n",
      "32\n",
      "5\n",
      "8.4\n",
      "[ 1  3  6 10 42]\n",
      "[  1   2   6  24 768]\n"
     ]
    }
   ],
   "source": [
    "import numpy as np\n",
    "a = np.array([1,2,3,4,32])\n",
    "\n",
    "print(np.sum(a))\n",
    "print(np.min(a))\n",
    "print(np.max(a))\n",
    "print(np.size(a))  #number of \n",
    "print(np.mean(a))\n",
    "print(np.cumsum(a))\n",
    "print(np.cumprod(a))\n"
   ]
  },
  {
   "cell_type": "code",
   "execution_count": 17,
   "id": "7773f90d-cf8c-4138-951e-5e4e9f9f3a93",
   "metadata": {},
   "outputs": [
    {
     "name": "stdout",
     "output_type": "stream",
     "text": [
      "[100 233 250 133 200] \n",
      " [12 13 16 18 20]\n",
      "[[ 100  233  250  133  200]\n",
      " [1200 3029 4000 2394 4000]]\n"
     ]
    }
   ],
   "source": [
    "a = [100, 233, 250, 133,200]\n",
    "b= [12,13,16,18,20]\n",
    "\n",
    "price = np.array(a)\n",
    "quantity = np.array(b)\n",
    "\n",
    "print(price, \"\\n\", quantity)\n",
    "\n",
    "# print(np.sum(price))\n",
    "\n",
    "p =  np.cumprod([price, quantity], axis = 0)\n",
    "\n",
    "print (p)"
   ]
  },
  {
   "cell_type": "code",
   "execution_count": null,
   "id": "a5f322b9-a734-47ff-93c6-60d15fd95805",
   "metadata": {},
   "outputs": [],
   "source": [
    ","
   ]
  }
 ],
 "metadata": {
  "kernelspec": {
   "display_name": "Python 3 (ipykernel)",
   "language": "python",
   "name": "python3"
  },
  "language_info": {
   "codemirror_mode": {
    "name": "ipython",
    "version": 3
   },
   "file_extension": ".py",
   "mimetype": "text/x-python",
   "name": "python",
   "nbconvert_exporter": "python",
   "pygments_lexer": "ipython3",
   "version": "3.12.3"
  }
 },
 "nbformat": 4,
 "nbformat_minor": 5
}
