{
 "cells": [
  {
   "cell_type": "code",
   "execution_count": 15,
   "id": "aee62755-41ce-4126-b358-6c03d1f4ad51",
   "metadata": {},
   "outputs": [
    {
     "name": "stdout",
     "output_type": "stream",
     "text": [
      "192.57142857142858\n",
      "188.0\n",
      "200\n",
      "50.082381113113854\n",
      "2508.2448979591836\n",
      "[130 150 180 188 200 200 300]\n",
      "2508.244897959183\n"
     ]
    }
   ],
   "source": [
    "import numpy as np\n",
    "import statistics as stats\n",
    "\n",
    "baked_food = [200,150,130,200,300,180,188]\n",
    "a = np.array(baked_food)\n",
    "\n",
    "print(np.mean(baked_food)) #sum of all values / no. of values \n",
    "\n",
    "print(np.median(baked_food)) #central value after sorting  \n",
    "\n",
    "print(stats.mode(baked_food))  #first \n",
    "\n",
    "print(np.std(baked_food))  \n",
    "\n",
    "print(np.var(baked_food))  #varience \n",
    "\n",
    "print(np.sort(baked_food))\n",
    "\n",
    " \n"
   ]
  },
  {
   "cell_type": "code",
   "execution_count": 21,
   "id": "e5947f71-53fd-4a27-a1bf-04b8eacbdf50",
   "metadata": {},
   "outputs": [
    {
     "name": "stdout",
     "output_type": "stream",
     "text": [
      "[[ 1.         -0.36522783]\n",
      " [-0.36522783  1.        ]]\n"
     ]
    }
   ],
   "source": [
    "tob_cunsumption = [30,50,30,20,15,23]\n",
    "death = [123,120,130,150,134,234]\n",
    "\n",
    "print(np.corrcoef([tob_cunsumption, death]))"
   ]
  },
  {
   "cell_type": "code",
   "execution_count": null,
   "id": "4144e78e-d21e-4540-82a9-e3b2a687d979",
   "metadata": {},
   "outputs": [],
   "source": []
  }
 ],
 "metadata": {
  "kernelspec": {
   "display_name": "Python 3 (ipykernel)",
   "language": "python",
   "name": "python3"
  },
  "language_info": {
   "codemirror_mode": {
    "name": "ipython",
    "version": 3
   },
   "file_extension": ".py",
   "mimetype": "text/x-python",
   "name": "python",
   "nbconvert_exporter": "python",
   "pygments_lexer": "ipython3",
   "version": "3.12.3"
  }
 },
 "nbformat": 4,
 "nbformat_minor": 5
}
