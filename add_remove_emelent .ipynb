{
 "cells": [
  {
   "cell_type": "code",
   "execution_count": 4,
   "id": "cd93cbd6-7779-4549-ab5a-7a0efc6aaded",
   "metadata": {},
   "outputs": [
    {
     "name": "stdout",
     "output_type": "stream",
     "text": [
      "[  23   34  344   54 4000]\n"
     ]
    }
   ],
   "source": [
    "import numpy as np \n",
    "\n",
    "a = np.array([[23,34],[344,54]])\n",
    "print(np.append(a,4000))\n"
   ]
  },
  {
   "cell_type": "code",
   "execution_count": 6,
   "id": "ca40a815-fd82-4e9a-af73-b208b36ecea4",
   "metadata": {},
   "outputs": [
    {
     "name": "stdout",
     "output_type": "stream",
     "text": [
      "[ 23 333  34 344  54]\n",
      "[[ 23 222  34]\n",
      " [344 333  54]]\n"
     ]
    }
   ],
   "source": [
    "print(np.insert(a, 1, 333))  #array, index, value \n",
    "\n",
    "print(np.insert(a, 1, [222, 333], axis = 1)) \n"
   ]
  },
  {
   "cell_type": "code",
   "execution_count": 8,
   "id": "c72f69a2-e95c-46c1-a34d-18948b2aa430",
   "metadata": {},
   "outputs": [
    {
     "name": "stdout",
     "output_type": "stream",
     "text": [
      "[ 23 344  54]\n"
     ]
    }
   ],
   "source": [
    "print(np.delete(a,1))"
   ]
  },
  {
   "cell_type": "code",
   "execution_count": null,
   "id": "79d34809-4e0e-4694-b55f-877c6f4d1b74",
   "metadata": {},
   "outputs": [],
   "source": []
  }
 ],
 "metadata": {
  "kernelspec": {
   "display_name": "Python 3 (ipykernel)",
   "language": "python",
   "name": "python3"
  },
  "language_info": {
   "codemirror_mode": {
    "name": "ipython",
    "version": 3
   },
   "file_extension": ".py",
   "mimetype": "text/x-python",
   "name": "python",
   "nbconvert_exporter": "python",
   "pygments_lexer": "ipython3",
   "version": "3.12.3"
  }
 },
 "nbformat": 4,
 "nbformat_minor": 5
}
