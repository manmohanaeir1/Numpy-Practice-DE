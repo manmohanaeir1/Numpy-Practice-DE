{
 "cells": [
  {
   "cell_type": "code",
   "execution_count": 14,
   "id": "6ef494e2-20aa-40ad-be41-35224fd14872",
   "metadata": {},
   "outputs": [
    {
     "name": "stdout",
     "output_type": "stream",
     "text": [
      "[[30 50 45]\n",
      " [60 56 48]]\n",
      "(2, 3)\n",
      "2\n",
      "6\n",
      "<class 'numpy.ndarray'>\n",
      "int64\n",
      "[[30. 50. 45.]\n",
      " [60. 56. 48.]]\n"
     ]
    }
   ],
   "source": [
    "import numpy as np\n",
    "\n",
    "a = [30, 50, 45], [60, 56, 48]\n",
    "arr = np.array(a)\n",
    "print(arr)\n",
    "print(arr.shape)\n",
    "print (len(arr))\n",
    "print(np.size(arr))\n",
    "print(type(arr))\n",
    "print(arr.dtype)\n",
    "\n",
    "print(arr.astype(float))"
   ]
  },
  {
   "cell_type": "code",
   "execution_count": null,
   "id": "8c8395d2-28f1-43e5-aa50-2b82204b7162",
   "metadata": {},
   "outputs": [],
   "source": []
  }
 ],
 "metadata": {
  "kernelspec": {
   "display_name": "Python 3 (ipykernel)",
   "language": "python",
   "name": "python3"
  },
  "language_info": {
   "codemirror_mode": {
    "name": "ipython",
    "version": 3
   },
   "file_extension": ".py",
   "mimetype": "text/x-python",
   "name": "python",
   "nbconvert_exporter": "python",
   "pygments_lexer": "ipython3",
   "version": "3.12.3"
  }
 },
 "nbformat": 4,
 "nbformat_minor": 5
}
