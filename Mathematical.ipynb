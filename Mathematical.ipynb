{
 "cells": [
  {
   "cell_type": "code",
   "execution_count": 6,
   "id": "c8827912-31c6-4a09-a309-c77ccf40fe40",
   "metadata": {},
   "outputs": [
    {
     "name": "stdout",
     "output_type": "stream",
     "text": [
      "[[ 75  83]\n",
      " [ 49 106]]\n",
      "[[ 75  83]\n",
      " [ 49 106]]\n"
     ]
    }
   ],
   "source": [
    "import numpy as np\n",
    "\n",
    "arr1 = np.array([[30,40],[4, 50]])\n",
    "arr2 = np.array([[45,43] ,[45, 56]])\n",
    "\n",
    "print(arr1 + arr2)\n",
    "\n",
    "print(np.add(arr1, arr2))"
   ]
  },
  {
   "cell_type": "code",
   "execution_count": 12,
   "id": "d5f06c96-63d2-4256-a7bd-814c188b5ff0",
   "metadata": {},
   "outputs": [
    {
     "name": "stdout",
     "output_type": "stream",
     "text": [
      "[[-15  -3]\n",
      " [-41  -6]]\n",
      "np.....:\n",
      "[[-15  -3]\n",
      " [-41  -6]]\n"
     ]
    }
   ],
   "source": [
    "import numpy as np\n",
    "\n",
    "arr1 = np.array([[30,40],[4, 50]])\n",
    "arr2 = np.array([[45,43] ,[45, 56]])\n",
    "\n",
    "print(arr1 - arr2)\n",
    "print(\"np.....:\")\n",
    "print(np.subtract(arr1, arr2))"
   ]
  },
  {
   "cell_type": "code",
   "execution_count": 13,
   "id": "79694421-1982-40da-98e5-0f08bf74cc22",
   "metadata": {},
   "outputs": [
    {
     "name": "stdout",
     "output_type": "stream",
     "text": [
      "[[0.66666667 0.93023256]\n",
      " [0.08888889 0.89285714]]\n",
      "np.....:\n",
      "[[0.66666667 0.93023256]\n",
      " [0.08888889 0.89285714]]\n"
     ]
    }
   ],
   "source": [
    "import numpy as np\n",
    "\n",
    "arr1 = np.array([[30,40],[4, 50]])\n",
    "arr2 = np.array([[45,43] ,[45, 56]])\n",
    "\n",
    "print(arr1 / arr2)\n",
    "print(\"np.....:\")\n",
    "print(np.divide(arr1, arr2))"
   ]
  },
  {
   "cell_type": "code",
   "execution_count": 14,
   "id": "9d36a070-52c1-4816-852b-2c86fa08b385",
   "metadata": {},
   "outputs": [
    {
     "name": "stdout",
     "output_type": "stream",
     "text": [
      "[5.47722558 6.32455532]\n"
     ]
    }
   ],
   "source": [
    "import numpy as np\n",
    "\n",
    "arr1 = np.array([30,40])\n",
    "print(np.sqrt(arr1))"
   ]
  },
  {
   "cell_type": "code",
   "execution_count": null,
   "id": "5206a1b2-a6be-46c8-a1f3-8c1cb237d753",
   "metadata": {},
   "outputs": [],
   "source": []
  }
 ],
 "metadata": {
  "kernelspec": {
   "display_name": "Python 3 (ipykernel)",
   "language": "python",
   "name": "python3"
  },
  "language_info": {
   "codemirror_mode": {
    "name": "ipython",
    "version": 3
   },
   "file_extension": ".py",
   "mimetype": "text/x-python",
   "name": "python",
   "nbconvert_exporter": "python",
   "pygments_lexer": "ipython3",
   "version": "3.12.3"
  }
 },
 "nbformat": 4,
 "nbformat_minor": 5
}
